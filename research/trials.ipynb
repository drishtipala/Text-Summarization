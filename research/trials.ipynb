d = {"key": "value", "key1": "value1"}
d["key"]
d.key

from box import ConfigBox

d2 = ConfigBox({"key": "value", "key1": "value1"})
d2
d2.key


def get_product(x: int, y: int) -> int:
    return x * y

get_product(x = 2, y = 4)

get_product(x = 2, y = "4")

from ensure import ensure_annotations

@ensure_annotations
def get_product(x: int, y: int) -> int:
    return x * y


get_product(x = 2, y = 4)

get_product(x = 2, y = "4")
